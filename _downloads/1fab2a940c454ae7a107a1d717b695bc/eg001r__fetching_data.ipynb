{
  "cells": [
    {
      "cell_type": "code",
      "execution_count": null,
      "metadata": {
        "collapsed": false
      },
      "outputs": [],
      "source": [
        "%matplotlib inline"
      ]
    },
    {
      "cell_type": "markdown",
      "metadata": {},
      "source": [
        "\n# Downloading KFTools Example Data\n"
      ]
    },
    {
      "cell_type": "code",
      "execution_count": null,
      "metadata": {
        "collapsed": false
      },
      "outputs": [],
      "source": [
        "#"
      ]
    },
    {
      "cell_type": "markdown",
      "metadata": {},
      "source": [
        "## Importage\n\n"
      ]
    },
    {
      "cell_type": "code",
      "execution_count": null,
      "metadata": {
        "collapsed": false
      },
      "outputs": [],
      "source": [
        "# KF Tools and related imports\nfrom kftools.data import load_info,fetch_file\nfrom mne.io import read_raw_snirf\n\n# Some neuroimaging library things\nimport nibabel as nib\nfrom nilearn.plotting import plot_stat_map\nfrom nilearn.image import index_img\n\n# Some generic things\nfrom matplotlib import pyplot as plt\nimport os\nimport pandas as pd"
      ]
    },
    {
      "cell_type": "markdown",
      "metadata": {},
      "source": [
        "## Specify data download location\n\nGive a specific location \ndata_dir = '/external/rprshnas01/netdata_kcni/jglab/Data/kftools_data'\nor maybe\ndata_dir = '.'\n\nIf data_dir=None the default location is used, which is '~/.kftools' \ndata_dir=None\n\n"
      ]
    },
    {
      "cell_type": "code",
      "execution_count": null,
      "metadata": {
        "collapsed": false
      },
      "outputs": [],
      "source": [
        "data_dir = '.'"
      ]
    },
    {
      "cell_type": "markdown",
      "metadata": {},
      "source": [
        "## List available files\n\n"
      ]
    },
    {
      "cell_type": "code",
      "execution_count": null,
      "metadata": {
        "collapsed": false
      },
      "outputs": [],
      "source": [
        "info = load_info()\ninfo[['fname', 'site','subid', 'task', 'sesid', 'datetime', 'filetype']]"
      ]
    },
    {
      "cell_type": "markdown",
      "metadata": {},
      "source": [
        "## HB Moments file\n\nThe kernel portal gives two .snirf file options: \n1. The 'raw' moments file\n2. A 'Hb moments' file\n\nThe Hb moments file has some initial preprocessing applied to it, \nincluding optical density and modified beer lambert law calculations.\n\n"
      ]
    },
    {
      "cell_type": "code",
      "execution_count": null,
      "metadata": {
        "collapsed": false
      },
      "outputs": [],
      "source": [
        "fetch_file(data_dir=data_dir, filetype='kp-snf-hbm',\n           site='snic', task='ft', subid='sub001', sesid='ses01')\n\nraw = read_raw_snirf('snic_sub001_ft_ses01_0909-1523_kp-snf-hbm.snirf')\n\ndf_raw = raw.to_data_frame()\n\nfig, ax = plt.subplots(figsize=(12,3))\ndf_raw[raw.ch_names[0:5]].loc[3000:].plot(ax=ax)"
      ]
    },
    {
      "cell_type": "markdown",
      "metadata": {},
      "source": [
        "## Nifti file\n\n\nIn-the-brain, DOT-reconstructed HbO and HbR time series \nare provided in the form of 4D nifti images. \n\n"
      ]
    },
    {
      "cell_type": "code",
      "execution_count": null,
      "metadata": {
        "collapsed": false
      },
      "outputs": [],
      "source": [
        "fetch_file(data_dir=data_dir, filetype='kp-nii-hbo',\n           site='snic', task='ft', subid='sub001', sesid='ses01')\n\nf = 'snic_sub001_ft_ses01_0909-1523_kp-nii-hbo.nii.gz'\nimgs = nib.load(f)\nimg = index_img(imgs,0)\ndisp = plot_stat_map(img)"
      ]
    },
    {
      "cell_type": "markdown",
      "metadata": {},
      "source": [
        "Note that for task-based statistical models, there is a \nseparate and modified events file, that contains the same \ninformation as can be pulled directly from the .snirf files\n(see later examples), but with modified timings. \n\n"
      ]
    },
    {
      "cell_type": "code",
      "execution_count": null,
      "metadata": {
        "collapsed": false
      },
      "outputs": [],
      "source": [
        "fetch_file(data_dir=data_dir, filetype='kp-nii-evs',\n           site='snic', task='ft', subid='sub001', sesid='ses01')\n\nf = 'snic_sub001_ft_ses01_0909-1523_kp-nii-evs.tsv'\ndf = pd.read_csv(f, sep='\\t')\ndf"
      ]
    }
  ],
  "metadata": {
    "kernelspec": {
      "display_name": "Python 3",
      "language": "python",
      "name": "python3"
    },
    "language_info": {
      "codemirror_mode": {
        "name": "ipython",
        "version": 3
      },
      "file_extension": ".py",
      "mimetype": "text/x-python",
      "name": "python",
      "nbconvert_exporter": "python",
      "pygments_lexer": "ipython3",
      "version": "3.8.12"
    }
  },
  "nbformat": 4,
  "nbformat_minor": 0
}