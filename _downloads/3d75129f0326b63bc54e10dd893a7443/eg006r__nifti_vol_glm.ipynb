{
  "cells": [
    {
      "cell_type": "code",
      "execution_count": null,
      "metadata": {
        "collapsed": false
      },
      "outputs": [],
      "source": [
        "%matplotlib inline"
      ]
    },
    {
      "cell_type": "markdown",
      "metadata": {},
      "source": [
        "\n# Nifti volumes - GLM analysis\n"
      ]
    },
    {
      "cell_type": "code",
      "execution_count": null,
      "metadata": {
        "collapsed": false
      },
      "outputs": [],
      "source": [
        ""
      ]
    },
    {
      "cell_type": "markdown",
      "metadata": {},
      "source": [
        "## Importage\n\n"
      ]
    },
    {
      "cell_type": "code",
      "execution_count": null,
      "metadata": {
        "collapsed": false
      },
      "outputs": [],
      "source": [
        "# KF Tools and related imports\nfrom kftools.data import fetch_file\nfrom kftools.nifti import ft_glm_ana\n\nimport numpy as np\nimport nibabel as nib\nfrom nilearn.image import mean_img\nfrom nilearn.surface import load_surf_mesh,load_surf_data,vol_to_surf\nfrom nilearn import datasets\n\nfrom nilearn.plotting import plot_glass_brain,plot_stat_map,plot_surf_stat_map\nfrom matplotlib import pyplot as plt"
      ]
    },
    {
      "cell_type": "markdown",
      "metadata": {},
      "source": [
        "## Grab the data\n\n"
      ]
    },
    {
      "cell_type": "code",
      "execution_count": null,
      "metadata": {
        "collapsed": false
      },
      "outputs": [],
      "source": [
        "data_dir='.'\n\nfetch_file(data_dir=data_dir, filetype='kp-nii-hbo',\n            site='pitch', task='ft', subid='sub010', sesid='ses01')\n\nfetch_file(data_dir=data_dir, filetype='kp-nii-hbr',\n            site='pitch', task='ft', subid='sub010', sesid='ses01')\n\nfetch_file(data_dir=data_dir, filetype='kp-nii-evs',\n            site='pitch', task='ft', subid='sub010', sesid='ses01')\n\nnii_hbo_f = 'pitch_sub010_ft_ses01_1017-1706_kp-nii-hbo.nii.gz'\n\nnii_hbr_f = 'pitch_sub010_ft_ses01_1017-1706_kp-nii-hbr.nii.gz'\n\nnii_ev_f = 'pitch_sub010_ft_ses01_1017-1706_kp-nii-evs.tsv'"
      ]
    },
    {
      "cell_type": "markdown",
      "metadata": {},
      "source": [
        "Analysis and viz\n--------------------------------------------------    \n\n"
      ]
    },
    {
      "cell_type": "markdown",
      "metadata": {},
      "source": [
        "Run GLM analysis\n\n"
      ]
    },
    {
      "cell_type": "code",
      "execution_count": null,
      "metadata": {
        "collapsed": false
      },
      "outputs": [],
      "source": [
        "res_hbo =  ft_glm_ana(nii_hbo_f, nii_ev_f, out_fstr = '')\nz_thrs,glm,evs,cntrsts,img = res_hbo\nz = z_thrs['rightft_minus_rest']"
      ]
    },
    {
      "cell_type": "markdown",
      "metadata": {},
      "source": [
        "Glass brain plots\n\n"
      ]
    },
    {
      "cell_type": "code",
      "execution_count": null,
      "metadata": {
        "collapsed": false
      },
      "outputs": [],
      "source": [
        "disp = plot_glass_brain(z,colorbar=True,threshold=5,black_bg=True)"
      ]
    },
    {
      "cell_type": "markdown",
      "metadata": {},
      "source": [
        "Slice view stat image plots \n\n"
      ]
    },
    {
      "cell_type": "code",
      "execution_count": null,
      "metadata": {
        "collapsed": false
      },
      "outputs": [],
      "source": [
        "disp = plot_stat_map(z,colorbar=True,threshold=5,cut_coords=[-20,-20,60])"
      ]
    },
    {
      "cell_type": "markdown",
      "metadata": {},
      "source": [
        "Project to surface \n\n"
      ]
    },
    {
      "cell_type": "code",
      "execution_count": null,
      "metadata": {
        "collapsed": false
      },
      "outputs": [],
      "source": [
        "fs5 = datasets.fetch_surf_fsaverage()\n\nlh_dat = vol_to_surf(z,surf_mesh=fs5.pial_left)\nrh_dat = vol_to_surf(z,surf_mesh=fs5.pial_right)\n\nlhc = load_surf_data(fs5.sulc_left)\nrhc = load_surf_data(fs5.sulc_right)\n\nlhi_vtx,lhi_tri = load_surf_mesh(fs5.infl_left)\nrhi_vtx,rhi_tri = load_surf_mesh(fs5.infl_right)\nrhi_vtx_mod = rhi_vtx.copy()\nrhi_vtx_mod[:,0] += 90\nlrhi_vtx = np.concatenate([lhi_vtx, rhi_vtx_mod],axis=0)\nlrhi_tri = np.concatenate([lhi_tri, rhi_tri+lhi_vtx.shape[0]])\nlrh_dat = np.concatenate([lh_dat,rh_dat],axis=0)\nlrhc = np.concatenate([lhc,rhc],axis=0)\nlrhi_vtx_rot = np.zeros_like(lrhi_vtx)\nlrhi_vtx_rot[:,0] = -lrhi_vtx[:,1]\nlrhi_vtx_rot[:,1] = lrhi_vtx[:,0]\nlrhi_vtx_rot[:,2] = lrhi_vtx[:,2]\n\nfig, ax = plt.subplots(ncols=3,subplot_kw={'projection': '3d'},figsize=(8,3))#, f)\n\na = ax[0]\ndisp = plot_surf_stat_map([lrhi_vtx_rot,lrhi_tri],lrh_dat, hemi='right', view='dorsal',\n                          bg_map=lrhc,threshold=5,axes=a,colorbar=False)#\n\na = ax[1]\ndisp = plot_surf_stat_map([lhi_vtx,lhi_tri],lh_dat, hemi='left', view='lateral',\n                          bg_map=lhc,threshold=5,axes=a,colorbar=False)#\n\na = ax[2]\ndisp = plot_surf_stat_map([rhi_vtx,rhi_tri],rh_dat, hemi='right', view='lateral',\n                          bg_map=rhc,threshold=5,axes=a,colorbar=False)#"
      ]
    }
  ],
  "metadata": {
    "kernelspec": {
      "display_name": "Python 3",
      "language": "python",
      "name": "python3"
    },
    "language_info": {
      "codemirror_mode": {
        "name": "ipython",
        "version": 3
      },
      "file_extension": ".py",
      "mimetype": "text/x-python",
      "name": "python",
      "nbconvert_exporter": "python",
      "pygments_lexer": "ipython3",
      "version": "3.8.13"
    }
  },
  "nbformat": 4,
  "nbformat_minor": 0
}