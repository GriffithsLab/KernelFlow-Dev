{
  "cells": [
    {
      "cell_type": "code",
      "execution_count": null,
      "metadata": {
        "collapsed": false
      },
      "outputs": [],
      "source": [
        "%matplotlib inline"
      ]
    },
    {
      "cell_type": "markdown",
      "metadata": {},
      "source": [
        "\n# Nifti volumes - functional connectivity analyses\n"
      ]
    },
    {
      "cell_type": "code",
      "execution_count": null,
      "metadata": {
        "collapsed": false
      },
      "outputs": [],
      "source": [
        ""
      ]
    },
    {
      "cell_type": "markdown",
      "metadata": {},
      "source": [
        "## Importage\n\n"
      ]
    },
    {
      "cell_type": "code",
      "execution_count": null,
      "metadata": {
        "collapsed": false
      },
      "outputs": [],
      "source": [
        "# Generic Imports\nimport os,sys,glob,numpy as np,pandas as pd\n\n# KF Tools and related imports\nfrom kftools.data import fetch_file\nfrom kftools.nifti import fc_for_seeds\n\nimport nibabel as nib\nfrom nilearn.image import mean_img\nfrom nilearn.surface import load_surf_mesh,load_surf_data,vol_to_surf\nfrom nilearn import datasets\nfrom nilearn.datasets import load_mni152_template\n\nfrom nilearn.plotting import plot_glass_brain,plot_stat_map,plot_surf_stat_map\nfrom matplotlib import pyplot as plt"
      ]
    },
    {
      "cell_type": "markdown",
      "metadata": {},
      "source": [
        "## Grab the data\n\n"
      ]
    },
    {
      "cell_type": "code",
      "execution_count": null,
      "metadata": {
        "collapsed": false
      },
      "outputs": [],
      "source": [
        "data_dir='.'\n\nfetch_file(data_dir=data_dir, filetype='kp-nii-hbo',\n            site='snic', task='rec', subid='sub008', sesid='ses02')\n\nnii_hbo_f = 'snic_sub008_rec_ses02_0920-1711_kp-nii-hbo.nii.gz'\n\n### seed coords from (Eggebrecht et al., 2014) ###\nseed_coord_dict = {'vis':(-19.5, -102, -3), \n                   'aud':(-67.5, -27, 12), \n                   'mot':(-67.5, -12, 27), \n                   'DAN':(-58.5, -69, -6), \n                   'FPC':(-52.5, 24, 33), \n                   'DMN':(-43.5, 21, 51)}\nseed_coord_ser = pd.Series(seed_coord_dict)\n\nfs5 = datasets.fetch_surf_fsaverage()"
      ]
    },
    {
      "cell_type": "markdown",
      "metadata": {},
      "source": [
        "Analysis and viz\n--------------------------------------------------    \n\n"
      ]
    },
    {
      "cell_type": "markdown",
      "metadata": {},
      "source": [
        "Run FC GLM analysis\n\n"
      ]
    },
    {
      "cell_type": "code",
      "execution_count": null,
      "metadata": {
        "collapsed": false
      },
      "outputs": [],
      "source": [
        "k = 'DMN'\nres = fc_for_seeds(nii_hbo_f,dothese=[k])#,clip_vols=[k],radius=10)\nz_maps,z_maps_masked = res"
      ]
    },
    {
      "cell_type": "markdown",
      "metadata": {},
      "source": [
        "Plot\n\n"
      ]
    },
    {
      "cell_type": "code",
      "execution_count": null,
      "metadata": {
        "collapsed": false
      },
      "outputs": [],
      "source": [
        "img = z_maps[k]\ndat = img.get_fdata()\ndat_pos = dat.copy()\ndat_pos[dat_pos<0] = 0\nimg_pos = nib.Nifti1Image(dat_pos,img.affine)\ndat_pos_lhp = vol_to_surf(img_pos,fs5.pial_left)\n\ndisp = plot_stat_map(img_pos, threshold=4,vmax=10)\ndisp = plot_glass_brain(img_pos,threshold=4, vmax=10);\ndisp = plot_surf_stat_map(fs5.pial_left,dat_pos_lhp,bg_map=fs5.curv_left,threshold=4,vmax=10)"
      ]
    }
  ],
  "metadata": {
    "kernelspec": {
      "display_name": "Python 3",
      "language": "python",
      "name": "python3"
    },
    "language_info": {
      "codemirror_mode": {
        "name": "ipython",
        "version": 3
      },
      "file_extension": ".py",
      "mimetype": "text/x-python",
      "name": "python",
      "nbconvert_exporter": "python",
      "pygments_lexer": "ipython3",
      "version": "3.8.13"
    }
  },
  "nbformat": 4,
  "nbformat_minor": 0
}