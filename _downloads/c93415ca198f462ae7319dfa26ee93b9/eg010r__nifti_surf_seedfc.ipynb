{
  "cells": [
    {
      "cell_type": "code",
      "execution_count": null,
      "metadata": {
        "collapsed": false
      },
      "outputs": [],
      "source": [
        "%matplotlib inline"
      ]
    },
    {
      "cell_type": "markdown",
      "metadata": {},
      "source": [
        "\n# Nifti surface seed-based FC analyses\n"
      ]
    },
    {
      "cell_type": "code",
      "execution_count": null,
      "metadata": {
        "collapsed": false
      },
      "outputs": [],
      "source": [
        ""
      ]
    },
    {
      "cell_type": "markdown",
      "metadata": {},
      "source": [
        "## Importage\n\n"
      ]
    },
    {
      "cell_type": "code",
      "execution_count": null,
      "metadata": {
        "collapsed": false
      },
      "outputs": [],
      "source": [
        "# KF Tools and related imports\nfrom kftools.data import fetch_file\nfrom kftools.nifti import run_surf_seedbasedfc_ana\n\nfrom nilearn.datasets import fetch_surf_nki_enhanced\nfrom nilearn.surface import load_surf_data\nimport nibabel as nib\n\nfrom matplotlib import pyplot as plt\nfrom nilearn.plotting import plot_surf_stat_map"
      ]
    },
    {
      "cell_type": "markdown",
      "metadata": {},
      "source": [
        "## Grab the data\n\n"
      ]
    },
    {
      "cell_type": "code",
      "execution_count": null,
      "metadata": {
        "collapsed": false
      },
      "outputs": [],
      "source": [
        "data_dir='.'\n\nfetch_file(data_dir=data_dir, filetype='kp-nii-hbo',\n            site='snic', task='rec', subid='sub008', sesid='ses02')\nnii_hbo_f = 'snic_sub008_rec_ses02_0920-1711_kp-nii-hbo.nii.gz'\n\nnki_dataset = fetch_surf_nki_enhanced(n_subjects=1)\nnki_rsfmri_lh = load_surf_data(nki_dataset['func_left'][0])\nnki_rsfmri_rh = load_surf_data(nki_dataset['func_right'][0])"
      ]
    },
    {
      "cell_type": "markdown",
      "metadata": {},
      "source": [
        "Plotting function\n\n"
      ]
    },
    {
      "cell_type": "code",
      "execution_count": null,
      "metadata": {
        "collapsed": false
      },
      "outputs": [],
      "source": [
        "def do_plot(surf_lh,surf_rh,stat_map_lh,stat_map_rh,sulc_lh,sulc_rh,title='',\n            thrs=[.1,.1,.1,.1],vmaxs = [1,1,1,1]):\n\n    fig, ax = plt.subplots(ncols=4, figsize=(18,3),subplot_kw={'projection': '3d'})\n\n    a = ax[0]\n    disp = plot_surf_stat_map([vtx_lh,tri_lh], stat_map=stat_map_lh,hemi='left',\n                              view='medial', colorbar=True,bg_map=sulc_lh,bg_on_data=True,\n                              cmap='cold_hot', threshold=thrs[0],vmax=vmaxs[0],axes=a)\n    a = ax[1]\n    disp = plot_surf_stat_map([vtx_lh,tri_lh], stat_map=stat_map_lh,hemi='left',\n                              view='lateral', colorbar=True,bg_map=sulc_lh,bg_on_data=True,\n                              cmap='cold_hot', threshold=thrs[1],vmax=vmaxs[1],axes=a)\n\n    a = ax[2]\n    disp = plot_surf_stat_map([vtx_rh,tri_rh], stat_map=stat_map_rh,hemi='right',\n                              view='lateral', colorbar=True,bg_map=sulc_rh,bg_on_data=True,\n                              cmap='cold_hot', threshold=thrs[2],vmax=vmaxs[2],axes=a)\n\n    a = ax[3]\n    disp = plot_surf_stat_map([vtx_rh,tri_rh], stat_map=stat_map_rh,hemi='right',\n                              view='medial', colorbar=True,bg_map=sulc_rh,bg_on_data=True,\n                              cmap='cold_hot', threshold=thrs[3],vmax=vmaxs[3],axes=a)\n\n    fig.suptitle(title)"
      ]
    },
    {
      "cell_type": "markdown",
      "metadata": {},
      "source": [
        "Analysis and viz\n--------------------------------------------------    \n\n"
      ]
    },
    {
      "cell_type": "markdown",
      "metadata": {},
      "source": [
        "Run FC analysis\n\n"
      ]
    },
    {
      "cell_type": "code",
      "execution_count": null,
      "metadata": {
        "collapsed": false
      },
      "outputs": [],
      "source": [
        "seed_name = b'G_cingul-Post-dorsal'; \nseed_hemi = 'left'\n\nimg = nib.load(nii_hbo_f)\nres_hbo = run_surf_seedbasedfc_ana(seed_name,seed_hemi,vol_dat_img=img,radius=12.0)\n\nres_fmri = run_surf_seedbasedfc_ana(seed_name,seed_hemi,\n                                    surf_dat_lh=nki_rsfmri_lh,surf_dat_rh=nki_rsfmri_rh)"
      ]
    },
    {
      "cell_type": "markdown",
      "metadata": {},
      "source": [
        "Plot\n\n"
      ]
    },
    {
      "cell_type": "code",
      "execution_count": null,
      "metadata": {
        "collapsed": false
      },
      "outputs": [],
      "source": [
        "(stat_map_lh,stat_map_rh,surf_dat_lh,surf_dat_rh,_,\n vtx_lh,tri_lh,sulc_lh,vtx_rh,tri_rh,sulc_rh,_) = res_hbo\ndo_plot([vtx_lh,tri_lh],[vtx_rh,tri_rh],stat_map_lh,stat_map_rh,sulc_lh,sulc_rh,title='',\n        thrs=[.1,.1,.1,.1],vmaxs=[.4,.4,.4,4])\n\n(stat_map_lh,stat_map_rh,surf_dat_lh,surf_dat_rh,_,\n vtx_lh,tri_lh,sulc_lh,vtx_rh,tri_rh,sulc_rh,_) = res_fmri\ndo_plot([vtx_lh,tri_lh],[vtx_rh,tri_rh],stat_map_lh,stat_map_rh,sulc_lh,sulc_rh,title='',\n        thrs=[.2,.2,.2,.2],vmaxs=[.8,.8,.8,8])"
      ]
    }
  ],
  "metadata": {
    "kernelspec": {
      "display_name": "Python 3",
      "language": "python",
      "name": "python3"
    },
    "language_info": {
      "codemirror_mode": {
        "name": "ipython",
        "version": 3
      },
      "file_extension": ".py",
      "mimetype": "text/x-python",
      "name": "python",
      "nbconvert_exporter": "python",
      "pygments_lexer": "ipython3",
      "version": "3.8.13"
    }
  },
  "nbformat": 4,
  "nbformat_minor": 0
}