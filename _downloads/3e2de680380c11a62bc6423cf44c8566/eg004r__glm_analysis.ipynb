{
  "cells": [
    {
      "cell_type": "code",
      "execution_count": null,
      "metadata": {
        "collapsed": false
      },
      "outputs": [],
      "source": [
        "%matplotlib inline"
      ]
    },
    {
      "cell_type": "markdown",
      "metadata": {},
      "source": [
        "\n# SNIRF HbM GLM Analysis\n"
      ]
    },
    {
      "cell_type": "code",
      "execution_count": null,
      "metadata": {
        "collapsed": false
      },
      "outputs": [],
      "source": [
        ""
      ]
    },
    {
      "cell_type": "markdown",
      "metadata": {},
      "source": [
        "## Importage\n\n"
      ]
    },
    {
      "cell_type": "code",
      "execution_count": null,
      "metadata": {
        "collapsed": false
      },
      "outputs": [],
      "source": [
        "# KF Tools and related imports\nfrom kftools.data import fetch_file\nfrom kftools.snirf import snirf_task_ana,kf_plot_glm_contrast_topo"
      ]
    },
    {
      "cell_type": "markdown",
      "metadata": {},
      "source": [
        "## Grab the data\n\n"
      ]
    },
    {
      "cell_type": "code",
      "execution_count": null,
      "metadata": {
        "collapsed": false
      },
      "outputs": [],
      "source": [
        "data_dir='.'\n \nfetch_file(data_dir=data_dir, filetype='kp-snf-hbm',\n            site='pitch', task='ft', subid='sub010', sesid='ses01')"
      ]
    },
    {
      "cell_type": "markdown",
      "metadata": {},
      "source": [
        "## Specify and run the GLM model\n\n"
      ]
    },
    {
      "cell_type": "code",
      "execution_count": null,
      "metadata": {
        "collapsed": false
      },
      "outputs": [],
      "source": [
        "f = 'pitch_sub010_ft_ses01_1017-1706_kp-snf-hbm.snirf'\n\nres = snirf_task_ana(f)\n\nres.keys()"
      ]
    },
    {
      "cell_type": "markdown",
      "metadata": {},
      "source": [
        "## Look at GLM results\n\n"
      ]
    },
    {
      "cell_type": "markdown",
      "metadata": {},
      "source": [
        "HbO, Left > Right contrast\n\n"
      ]
    },
    {
      "cell_type": "code",
      "execution_count": null,
      "metadata": {
        "collapsed": false
      },
      "outputs": [],
      "source": [
        "glmest = res['glm_est']\ncon = res['contrast_LgtR'].data\ndisp = kf_plot_glm_contrast_topo(glmest, con,\n                                 vmin=0,vmax=5E-7,sig_thr=0.00001)"
      ]
    },
    {
      "cell_type": "markdown",
      "metadata": {},
      "source": [
        "HbO, Right > Left contrast\n\n"
      ]
    },
    {
      "cell_type": "code",
      "execution_count": null,
      "metadata": {
        "collapsed": false
      },
      "outputs": [],
      "source": [
        "glmest = res['glm_est']\ncon = res['contrast_RgtL'].data\ndisp = kf_plot_glm_contrast_topo(glmest, con,\n                                 vmin=0,vmax=5E-7,sig_thr=0.00001)"
      ]
    },
    {
      "cell_type": "markdown",
      "metadata": {},
      "source": [
        "HbR, Left > Right contrast\n\n"
      ]
    },
    {
      "cell_type": "code",
      "execution_count": null,
      "metadata": {
        "collapsed": false
      },
      "outputs": [],
      "source": [
        "glmest = res['glm_est']\ncon = res['contrast_LgtR'].data\ndisp = kf_plot_glm_contrast_topo(glmest, con, chromo='hbr',\n                                 vmin=0,vmax=5E-7,sig_thr=0.0001)"
      ]
    },
    {
      "cell_type": "markdown",
      "metadata": {},
      "source": [
        "HbR, Right > Left contrast\n\n"
      ]
    },
    {
      "cell_type": "code",
      "execution_count": null,
      "metadata": {
        "collapsed": false
      },
      "outputs": [],
      "source": [
        "glmest = res['glm_est']\ncon = res['contrast_RgtL'].data\ndisp = kf_plot_glm_contrast_topo(glmest, con, chromo='hbr',\n                                 vmin=0,vmax=5E-7,sig_thr=0.0001)"
      ]
    }
  ],
  "metadata": {
    "kernelspec": {
      "display_name": "Python 3",
      "language": "python",
      "name": "python3"
    },
    "language_info": {
      "codemirror_mode": {
        "name": "ipython",
        "version": 3
      },
      "file_extension": ".py",
      "mimetype": "text/x-python",
      "name": "python",
      "nbconvert_exporter": "python",
      "pygments_lexer": "ipython3",
      "version": "3.8.12"
    }
  },
  "nbformat": 4,
  "nbformat_minor": 0
}